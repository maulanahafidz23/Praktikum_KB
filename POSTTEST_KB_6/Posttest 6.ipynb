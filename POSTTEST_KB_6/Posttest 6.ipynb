{
 "cells": [
  {
   "cell_type": "markdown",
   "id": "8b545aee-896b-4295-a92c-3c742c640c07",
   "metadata": {},
   "source": [
    "# POSTTEST 6 KECERDASAN BUATAN\n",
    "*Maulana Muhammad Hafidz / 2109106070*\n",
    "\n",
    "Pada posttest 6 ini saya mengganti dataset dengan link : https://www.kaggle.com/datasets/rodolfomendes/abalone-dataset\n",
    "\n",
    "Target dataset : Rings"
   ]
  },
  {
   "cell_type": "code",
   "execution_count": 1,
   "id": "d8be3a03-d059-4bc9-b45c-91fc7db1f716",
   "metadata": {},
   "outputs": [],
   "source": [
    "import pandas as pd\n",
    "import numpy as np\n",
    "import tensorflow as tf\n",
    "from sklearn.model_selection import train_test_split\n",
    "from sklearn.preprocessing import StandardScaler\n",
    "from sklearn.metrics import accuracy_score\n",
    "from tensorflow.keras.models import Sequential\n",
    "from tensorflow.keras.layers import Dense\n",
    "from tensorflow.keras.optimizers import Adam\n",
    "from tensorflow.keras.callbacks import EarlyStopping, ModelCheckpoint\n",
    "import matplotlib.pyplot as plt"
   ]
  },
  {
   "cell_type": "code",
   "execution_count": 3,
   "id": "485b033b-355b-4a3a-8c25-541757ddf12f",
   "metadata": {},
   "outputs": [
    {
     "data": {
      "text/html": [
       "<div>\n",
       "<style scoped>\n",
       "    .dataframe tbody tr th:only-of-type {\n",
       "        vertical-align: middle;\n",
       "    }\n",
       "\n",
       "    .dataframe tbody tr th {\n",
       "        vertical-align: top;\n",
       "    }\n",
       "\n",
       "    .dataframe thead th {\n",
       "        text-align: right;\n",
       "    }\n",
       "</style>\n",
       "<table border=\"1\" class=\"dataframe\">\n",
       "  <thead>\n",
       "    <tr style=\"text-align: right;\">\n",
       "      <th></th>\n",
       "      <th>Sex</th>\n",
       "      <th>Length</th>\n",
       "      <th>Diameter</th>\n",
       "      <th>Height</th>\n",
       "      <th>Whole weight</th>\n",
       "      <th>Shucked weight</th>\n",
       "      <th>Viscera weight</th>\n",
       "      <th>Shell weight</th>\n",
       "      <th>Rings</th>\n",
       "    </tr>\n",
       "  </thead>\n",
       "  <tbody>\n",
       "    <tr>\n",
       "      <th>0</th>\n",
       "      <td>M</td>\n",
       "      <td>0.455</td>\n",
       "      <td>0.365</td>\n",
       "      <td>0.095</td>\n",
       "      <td>0.5140</td>\n",
       "      <td>0.2245</td>\n",
       "      <td>0.1010</td>\n",
       "      <td>0.1500</td>\n",
       "      <td>15</td>\n",
       "    </tr>\n",
       "    <tr>\n",
       "      <th>1</th>\n",
       "      <td>M</td>\n",
       "      <td>0.350</td>\n",
       "      <td>0.265</td>\n",
       "      <td>0.090</td>\n",
       "      <td>0.2255</td>\n",
       "      <td>0.0995</td>\n",
       "      <td>0.0485</td>\n",
       "      <td>0.0700</td>\n",
       "      <td>7</td>\n",
       "    </tr>\n",
       "    <tr>\n",
       "      <th>2</th>\n",
       "      <td>F</td>\n",
       "      <td>0.530</td>\n",
       "      <td>0.420</td>\n",
       "      <td>0.135</td>\n",
       "      <td>0.6770</td>\n",
       "      <td>0.2565</td>\n",
       "      <td>0.1415</td>\n",
       "      <td>0.2100</td>\n",
       "      <td>9</td>\n",
       "    </tr>\n",
       "    <tr>\n",
       "      <th>3</th>\n",
       "      <td>M</td>\n",
       "      <td>0.440</td>\n",
       "      <td>0.365</td>\n",
       "      <td>0.125</td>\n",
       "      <td>0.5160</td>\n",
       "      <td>0.2155</td>\n",
       "      <td>0.1140</td>\n",
       "      <td>0.1550</td>\n",
       "      <td>10</td>\n",
       "    </tr>\n",
       "    <tr>\n",
       "      <th>4</th>\n",
       "      <td>I</td>\n",
       "      <td>0.330</td>\n",
       "      <td>0.255</td>\n",
       "      <td>0.080</td>\n",
       "      <td>0.2050</td>\n",
       "      <td>0.0895</td>\n",
       "      <td>0.0395</td>\n",
       "      <td>0.0550</td>\n",
       "      <td>7</td>\n",
       "    </tr>\n",
       "    <tr>\n",
       "      <th>...</th>\n",
       "      <td>...</td>\n",
       "      <td>...</td>\n",
       "      <td>...</td>\n",
       "      <td>...</td>\n",
       "      <td>...</td>\n",
       "      <td>...</td>\n",
       "      <td>...</td>\n",
       "      <td>...</td>\n",
       "      <td>...</td>\n",
       "    </tr>\n",
       "    <tr>\n",
       "      <th>4172</th>\n",
       "      <td>F</td>\n",
       "      <td>0.565</td>\n",
       "      <td>0.450</td>\n",
       "      <td>0.165</td>\n",
       "      <td>0.8870</td>\n",
       "      <td>0.3700</td>\n",
       "      <td>0.2390</td>\n",
       "      <td>0.2490</td>\n",
       "      <td>11</td>\n",
       "    </tr>\n",
       "    <tr>\n",
       "      <th>4173</th>\n",
       "      <td>M</td>\n",
       "      <td>0.590</td>\n",
       "      <td>0.440</td>\n",
       "      <td>0.135</td>\n",
       "      <td>0.9660</td>\n",
       "      <td>0.4390</td>\n",
       "      <td>0.2145</td>\n",
       "      <td>0.2605</td>\n",
       "      <td>10</td>\n",
       "    </tr>\n",
       "    <tr>\n",
       "      <th>4174</th>\n",
       "      <td>M</td>\n",
       "      <td>0.600</td>\n",
       "      <td>0.475</td>\n",
       "      <td>0.205</td>\n",
       "      <td>1.1760</td>\n",
       "      <td>0.5255</td>\n",
       "      <td>0.2875</td>\n",
       "      <td>0.3080</td>\n",
       "      <td>9</td>\n",
       "    </tr>\n",
       "    <tr>\n",
       "      <th>4175</th>\n",
       "      <td>F</td>\n",
       "      <td>0.625</td>\n",
       "      <td>0.485</td>\n",
       "      <td>0.150</td>\n",
       "      <td>1.0945</td>\n",
       "      <td>0.5310</td>\n",
       "      <td>0.2610</td>\n",
       "      <td>0.2960</td>\n",
       "      <td>10</td>\n",
       "    </tr>\n",
       "    <tr>\n",
       "      <th>4176</th>\n",
       "      <td>M</td>\n",
       "      <td>0.710</td>\n",
       "      <td>0.555</td>\n",
       "      <td>0.195</td>\n",
       "      <td>1.9485</td>\n",
       "      <td>0.9455</td>\n",
       "      <td>0.3765</td>\n",
       "      <td>0.4950</td>\n",
       "      <td>12</td>\n",
       "    </tr>\n",
       "  </tbody>\n",
       "</table>\n",
       "<p>4177 rows × 9 columns</p>\n",
       "</div>"
      ],
      "text/plain": [
       "     Sex  Length  Diameter  Height  Whole weight  Shucked weight  \\\n",
       "0      M   0.455     0.365   0.095        0.5140          0.2245   \n",
       "1      M   0.350     0.265   0.090        0.2255          0.0995   \n",
       "2      F   0.530     0.420   0.135        0.6770          0.2565   \n",
       "3      M   0.440     0.365   0.125        0.5160          0.2155   \n",
       "4      I   0.330     0.255   0.080        0.2050          0.0895   \n",
       "...   ..     ...       ...     ...           ...             ...   \n",
       "4172   F   0.565     0.450   0.165        0.8870          0.3700   \n",
       "4173   M   0.590     0.440   0.135        0.9660          0.4390   \n",
       "4174   M   0.600     0.475   0.205        1.1760          0.5255   \n",
       "4175   F   0.625     0.485   0.150        1.0945          0.5310   \n",
       "4176   M   0.710     0.555   0.195        1.9485          0.9455   \n",
       "\n",
       "      Viscera weight  Shell weight  Rings  \n",
       "0             0.1010        0.1500     15  \n",
       "1             0.0485        0.0700      7  \n",
       "2             0.1415        0.2100      9  \n",
       "3             0.1140        0.1550     10  \n",
       "4             0.0395        0.0550      7  \n",
       "...              ...           ...    ...  \n",
       "4172          0.2390        0.2490     11  \n",
       "4173          0.2145        0.2605     10  \n",
       "4174          0.2875        0.3080      9  \n",
       "4175          0.2610        0.2960     10  \n",
       "4176          0.3765        0.4950     12  \n",
       "\n",
       "[4177 rows x 9 columns]"
      ]
     },
     "execution_count": 3,
     "metadata": {},
     "output_type": "execute_result"
    }
   ],
   "source": [
    "df = pd.read_csv(\"abalone-Copy1.csv\")\n",
    "df"
   ]
  },
  {
   "cell_type": "markdown",
   "id": "8cac592d-ab87-4e30-9d98-9519a93e7326",
   "metadata": {},
   "source": [
    "Mengkonversi target ke binary"
   ]
  },
  {
   "cell_type": "code",
   "execution_count": 8,
   "id": "c28ed51c-602b-405b-83e6-d3b85177c41c",
   "metadata": {},
   "outputs": [],
   "source": [
    "df['Rings'] = df['Rings'].apply(lambda x: 1 if x > 10 else 0)"
   ]
  },
  {
   "cell_type": "markdown",
   "id": "70a493bc-a12a-47e9-9224-2b152eee5eb3",
   "metadata": {},
   "source": [
    "Pisahkan Feature dan Target"
   ]
  },
  {
   "cell_type": "code",
   "execution_count": 7,
   "id": "959804ae-ad15-4702-8358-fad015642ff5",
   "metadata": {},
   "outputs": [],
   "source": [
    "X = df[['Length', 'Diameter', 'Height', 'Whole weight', 'Shucked weight', 'Viscera weight', 'Shell weight', 'Sex']]\n",
    "y = df['Rings']"
   ]
  },
  {
   "cell_type": "markdown",
   "id": "b0f7450c-b036-449a-9c29-cf7f3795fdbe",
   "metadata": {},
   "source": [
    "Melakukan encoding pada kolom \"Sex\""
   ]
  },
  {
   "cell_type": "code",
   "execution_count": 10,
   "id": "494119f3-d594-4b02-a534-8ccfaef41182",
   "metadata": {},
   "outputs": [],
   "source": [
    "X = pd.get_dummies(X, columns=['Sex'], prefix='Sex', drop_first=True)"
   ]
  },
  {
   "cell_type": "markdown",
   "id": "acbade5c-d016-4b03-b7cc-55598da80294",
   "metadata": {},
   "source": [
    "Bagi dataset menjadi Train dan Test"
   ]
  },
  {
   "cell_type": "code",
   "execution_count": 12,
   "id": "8e50e1c0-142d-4fbe-8838-d20aab3c4085",
   "metadata": {},
   "outputs": [],
   "source": [
    "X_train, X_test, y_train, y_test = train_test_split(X, y, test_size=0.2, random_state=42)"
   ]
  },
  {
   "cell_type": "markdown",
   "id": "adebd2ac-5906-4024-b37d-ff819c4f310c",
   "metadata": {},
   "source": [
    "Standarisasi pada kolom feature"
   ]
  },
  {
   "cell_type": "code",
   "execution_count": 98,
   "id": "0c508103-5d2e-4b8a-89b3-4bf54a5867f2",
   "metadata": {},
   "outputs": [],
   "source": [
    "scaler = StandardScaler()\n",
    "X_train = scaler.fit_transform(X_train)\n",
    "X_test = scaler.transform(X_test)"
   ]
  },
  {
   "cell_type": "markdown",
   "id": "0a9ae837-71df-4f29-9409-4c6b197ddd5b",
   "metadata": {},
   "source": [
    "Membuat model squential"
   ]
  },
  {
   "cell_type": "code",
   "execution_count": 99,
   "id": "7b8b95ce-a699-46bf-bdea-3316cbd02723",
   "metadata": {},
   "outputs": [],
   "source": [
    "model = Sequential()\n",
    "model.add(Dense(64, input_shape=(X_train.shape[1],), activation='relu'))\n",
    "model.add(Dense(32, activation='relu'))\n",
    "model.add(Dense(1, activation='sigmoid'))"
   ]
  },
  {
   "cell_type": "code",
   "execution_count": 100,
   "id": "7a9c5940-f546-4fa4-9398-5aad3a59eafb",
   "metadata": {},
   "outputs": [
    {
     "name": "stdout",
     "output_type": "stream",
     "text": [
      "Model: \"sequential_13\"\n",
      "_________________________________________________________________\n",
      " Layer (type)                Output Shape              Param #   \n",
      "=================================================================\n",
      " dense_30 (Dense)            (None, 64)                640       \n",
      "                                                                 \n",
      " dense_31 (Dense)            (None, 32)                2080      \n",
      "                                                                 \n",
      " dense_32 (Dense)            (None, 1)                 33        \n",
      "                                                                 \n",
      "=================================================================\n",
      "Total params: 2753 (10.75 KB)\n",
      "Trainable params: 2753 (10.75 KB)\n",
      "Non-trainable params: 0 (0.00 Byte)\n",
      "_________________________________________________________________\n"
     ]
    }
   ],
   "source": [
    "model.summary()"
   ]
  },
  {
   "cell_type": "markdown",
   "id": "788ddf5e-af19-4da6-96f5-4141fed36829",
   "metadata": {},
   "source": [
    "Mengompilasi model"
   ]
  },
  {
   "cell_type": "code",
   "execution_count": 128,
   "id": "751704bc-1f10-498b-a434-cf520e8c0983",
   "metadata": {},
   "outputs": [],
   "source": [
    "model.compile(optimizer=\"Adam\", loss='binary_crossentropy', metrics=['accuracy'])"
   ]
  },
  {
   "cell_type": "code",
   "execution_count": 129,
   "id": "4d6bf318-03d4-4149-8fca-9b170bcaefb3",
   "metadata": {},
   "outputs": [],
   "source": [
    "early_stopping = EarlyStopping(monitor='val_loss', patience=10, restore_best_weights=True)\n",
    "checkpoint = ModelCheckpoint(\"best_model.h5\", save_best_only=True)"
   ]
  },
  {
   "cell_type": "markdown",
   "id": "c678b2ca-8202-4c64-b3b3-78b5f725ae85",
   "metadata": {},
   "source": [
    "Melatih Model"
   ]
  },
  {
   "cell_type": "code",
   "execution_count": 130,
   "id": "d6891004-84c1-4d2c-93d6-33f4b6f9946d",
   "metadata": {},
   "outputs": [
    {
     "name": "stdout",
     "output_type": "stream",
     "text": [
      "Epoch 1/50\n",
      "84/84 [==============================] - 2s 7ms/step - loss: 0.3951 - accuracy: 0.8114 - val_loss: 0.4423 - val_accuracy: 0.7848\n",
      "Epoch 2/50\n",
      "84/84 [==============================] - 0s 4ms/step - loss: 0.3921 - accuracy: 0.8147 - val_loss: 0.4491 - val_accuracy: 0.7833\n",
      "Epoch 3/50\n",
      "84/84 [==============================] - 0s 4ms/step - loss: 0.3930 - accuracy: 0.8099 - val_loss: 0.4503 - val_accuracy: 0.7848\n",
      "Epoch 4/50\n",
      "84/84 [==============================] - 0s 4ms/step - loss: 0.3914 - accuracy: 0.8136 - val_loss: 0.4402 - val_accuracy: 0.7877\n",
      "Epoch 5/50\n",
      "84/84 [==============================] - 0s 4ms/step - loss: 0.3948 - accuracy: 0.8118 - val_loss: 0.4414 - val_accuracy: 0.7833\n",
      "Epoch 6/50\n",
      "84/84 [==============================] - 0s 4ms/step - loss: 0.3922 - accuracy: 0.8121 - val_loss: 0.4462 - val_accuracy: 0.7877\n",
      "Epoch 7/50\n",
      "84/84 [==============================] - 0s 3ms/step - loss: 0.3962 - accuracy: 0.8121 - val_loss: 0.4485 - val_accuracy: 0.7788\n",
      "Epoch 8/50\n",
      "84/84 [==============================] - 0s 3ms/step - loss: 0.3922 - accuracy: 0.8114 - val_loss: 0.4452 - val_accuracy: 0.7848\n",
      "Epoch 9/50\n",
      "84/84 [==============================] - 0s 5ms/step - loss: 0.3904 - accuracy: 0.8099 - val_loss: 0.4394 - val_accuracy: 0.7937\n",
      "Epoch 10/50\n",
      "84/84 [==============================] - 0s 4ms/step - loss: 0.3913 - accuracy: 0.8132 - val_loss: 0.4614 - val_accuracy: 0.7788\n",
      "Epoch 11/50\n",
      "84/84 [==============================] - 0s 4ms/step - loss: 0.3945 - accuracy: 0.8125 - val_loss: 0.4445 - val_accuracy: 0.7922\n",
      "Epoch 12/50\n",
      "84/84 [==============================] - 0s 4ms/step - loss: 0.3895 - accuracy: 0.8174 - val_loss: 0.4437 - val_accuracy: 0.7833\n",
      "Epoch 13/50\n",
      "84/84 [==============================] - 0s 4ms/step - loss: 0.3895 - accuracy: 0.8151 - val_loss: 0.4451 - val_accuracy: 0.7937\n",
      "Epoch 14/50\n",
      "84/84 [==============================] - 0s 4ms/step - loss: 0.3909 - accuracy: 0.8132 - val_loss: 0.4455 - val_accuracy: 0.7862\n",
      "Epoch 15/50\n",
      "84/84 [==============================] - 0s 4ms/step - loss: 0.3886 - accuracy: 0.8136 - val_loss: 0.4448 - val_accuracy: 0.7848\n",
      "Epoch 16/50\n",
      "84/84 [==============================] - 0s 4ms/step - loss: 0.3882 - accuracy: 0.8159 - val_loss: 0.4402 - val_accuracy: 0.7818\n",
      "Epoch 17/50\n",
      "84/84 [==============================] - 0s 3ms/step - loss: 0.3881 - accuracy: 0.8095 - val_loss: 0.4639 - val_accuracy: 0.7758\n",
      "Epoch 18/50\n",
      "84/84 [==============================] - 0s 4ms/step - loss: 0.3880 - accuracy: 0.8204 - val_loss: 0.4453 - val_accuracy: 0.7803\n",
      "Epoch 19/50\n",
      "84/84 [==============================] - 0s 4ms/step - loss: 0.3902 - accuracy: 0.8159 - val_loss: 0.4442 - val_accuracy: 0.7877\n"
     ]
    }
   ],
   "source": [
    "history = model.fit(X_train, y_train, epochs=50, batch_size=32, validation_split=0.2, callbacks=[early_stopping, checkpoint])"
   ]
  },
  {
   "cell_type": "code",
   "execution_count": 132,
   "id": "7768b924-2a10-494f-aefe-71d2270c1553",
   "metadata": {},
   "outputs": [
    {
     "name": "stdout",
     "output_type": "stream",
     "text": [
      "27/27 [==============================] - 0s 2ms/step - loss: 0.4315 - accuracy: 0.7859\n"
     ]
    }
   ],
   "source": [
    "score = model.evaluate(X_test, y_test, verbose=1)"
   ]
  },
  {
   "cell_type": "code",
   "execution_count": 133,
   "id": "50296a7f-7021-47d0-b102-685723b8b78f",
   "metadata": {},
   "outputs": [
    {
     "data": {
      "image/png": "[encoded data removed]",
      "text/plain": [
       "<Figure size 1200x400 with 2 Axes>"
      ]
     },
     "metadata": {},
     "output_type": "display_data"
    }
   ],
   "source": [
    "plt.figure(figsize=(12, 4))\n",
    "plt.subplot(1, 2, 1)\n",
    "plt.plot(history.history['loss'], label='Training Loss')\n",
    "plt.plot(history.history['val_loss'], label='Validation Loss')\n",
    "plt.xlabel('Epoch')\n",
    "plt.ylabel('Loss')\n",
    "plt.legend()\n",
    "plt.title('Model Loss')\n",
    "\n",
    "plt.subplot(1, 2, 2)\n",
    "plt.plot(history.history['accuracy'], label='Training Accuracy')\n",
    "plt.plot(history.history['val_accuracy'], label='Validation Accuracy')\n",
    "plt.xlabel('Epoch')\n",
    "plt.ylabel('Accuracy')\n",
    "plt.legend()\n",
    "plt.title('Model Accuracy')\n",
    "\n",
    "plt.show()\n"
   ]
  }
 ],
 "metadata": {
  "kernelspec": {
   "display_name": "maulana_070",
   "language": "python",
   "name": "maulana_070"
  },
  "language_info": {
   "codemirror_mode": {
    "name": "ipython",
    "version": 3
   },
   "file_extension": ".py",
   "mimetype": "text/x-python",
   "name": "python",
   "nbconvert_exporter": "python",
   "pygments_lexer": "ipython3",
   "version": "3.10.7"
  }
 },
 "nbformat": 4,
 "nbformat_minor": 5
}
